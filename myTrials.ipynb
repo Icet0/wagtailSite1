{
 "cells": [
  {
   "cell_type": "code",
   "execution_count": 6,
   "metadata": {},
   "outputs": [
    {
     "name": "stdout",
     "output_type": "stream",
     "text": [
      "-1\n",
      "D:\\Travail\\Polytech 5A\\STAGE\\EGG Analysis\\wagtailSite1\\mysite\\media\\uploads\\icet0\\exp3\\20230515_patient_id.cs\n",
      "D:\\Travail\\Polytech 5A\\STAGE\\EGG Analysis\\wagtailSite1\\mysite\\media\\uploads\\icet0\\exp3\\20230515_patient_id.cs/mat/mymat.mat\n"
     ]
    }
   ],
   "source": [
    "path = 'D:\\\\Travail\\\\Polytech 5A\\\\STAGE\\\\EGG Analysis\\\\wagtailSite1\\\\mysite\\\\media\\\\uploads\\\\icet0\\\\exp3\\\\20230515_patient_id.csv'\n",
    "\n",
    "# Trouver l'index du dernier '/'\n",
    "last_slash_index = path.rfind('/')\n",
    "\n",
    "print(last_slash_index)\n",
    "# Enlever le dernier '/'\n",
    "path_without_last_slash = path[:last_slash_index]\n",
    "print(path_without_last_slash)\n",
    "# Ajouter 'mat/mymat.mat' à la fin du chemin\n",
    "new_path = path_without_last_slash + '/mat/mymat.mat'\n",
    "\n",
    "print(new_path)\n"
   ]
  },
  {
   "cell_type": "code",
   "execution_count": null,
   "metadata": {},
   "outputs": [],
   "source": []
  }
 ],
 "metadata": {
  "kernelspec": {
   "display_name": ".venv",
   "language": "python",
   "name": "python3"
  },
  "language_info": {
   "codemirror_mode": {
    "name": "ipython",
    "version": 3
   },
   "file_extension": ".py",
   "mimetype": "text/x-python",
   "name": "python",
   "nbconvert_exporter": "python",
   "pygments_lexer": "ipython3",
   "version": "3.9.10"
  },
  "orig_nbformat": 4
 },
 "nbformat": 4,
 "nbformat_minor": 2
}
